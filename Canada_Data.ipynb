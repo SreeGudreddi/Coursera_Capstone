{
    "nbformat_minor": 1, 
    "cells": [
        {
            "source": "<b><font size=\"5\">Segmenting and Clustering of Toronto Neighborhood</font></b>", 
            "cell_type": "markdown", 
            "metadata": {
                "collapsed": true
            }
        }, 
        {
            "source": "<b>1. Import Libraries </b>", 
            "cell_type": "markdown", 
            "metadata": {}
        }, 
        {
            "execution_count": 2, 
            "cell_type": "code", 
            "metadata": {}, 
            "outputs": [
                {
                    "output_type": "stream", 
                    "name": "stdout", 
                    "text": "Fetching package metadata .............\nSolving package specifications: .\n\n# All requested packages already installed.\n# packages in environment at /opt/conda/envs/DSX-Python35:\n#\nfolium                    0.5.0                      py_0    conda-forge\nImported!\n"
                }
            ], 
            "source": "#import libraries\nimport pandas as pd\nimport numpy as np\n\n# tranform JSON file into a pandas dataframe\nfrom pandas.io.json import json_normalize \n\n# Matplotlib and associated plotting modules\nimport matplotlib.cm as cm\nimport matplotlib.colors as colors\n\n# import k-means from clustering stage\nfrom sklearn.cluster import KMeans\n\n#import folium to render map\n!conda install -c conda-forge folium=0.5.0 --yes\nimport folium\n\nprint(\"Imported!\")"
        }, 
        {
            "execution_count": 3, 
            "cell_type": "code", 
            "metadata": {}, 
            "outputs": [
                {
                    "output_type": "stream", 
                    "name": "stdout", 
                    "text": "Searching for beautifulsoup4\nBest match: beautifulsoup4 4.6.0\nAdding beautifulsoup4 4.6.0 to easy-install.pth file\n\nUsing /opt/conda/envs/DSX-Python35/lib/python3.5/site-packages\nProcessing dependencies for beautifulsoup4\nFinished processing dependencies for beautifulsoup4\nSearching for html5lib\nBest match: html5lib 0.999999999\nAdding html5lib 0.999999999 to easy-install.pth file\n\nUsing /opt/conda/envs/DSX-Python35/lib/python3.5/site-packages\nProcessing dependencies for html5lib\nFinished processing dependencies for html5lib\n"
                }
            ], 
            "source": "#Install beautifulsoup and html parser\n!easy_install beautifulsoup4\n!easy_install html5lib"
        }, 
        {
            "source": "<b>2. Get the web page contents from the Wikipedia web site</b>", 
            "cell_type": "markdown", 
            "metadata": {}
        }, 
        {
            "execution_count": 4, 
            "cell_type": "code", 
            "metadata": {}, 
            "outputs": [], 
            "source": "#Get page contents from the given URL\nimport requests\npage = requests.get('https://en.wikipedia.org/wiki/List_of_postal_codes_of_Canada:_M')\n#print(page.content)\n"
        }, 
        {
            "source": "<b>3. Use the HTML parser to extract table from the web page</b>", 
            "cell_type": "markdown", 
            "metadata": {}
        }, 
        {
            "execution_count": 5, 
            "cell_type": "code", 
            "metadata": {}, 
            "outputs": [], 
            "source": "#Using BeautifulSoup to extract the page\nfrom bs4 import BeautifulSoup\nsoup = BeautifulSoup(page.content, 'html.parser')"
        }, 
        {
            "source": "<p>\nFirst, get contents in tags 'tr' from the table.\nNext, extract the contents within the header tags 'th'\nLast, extract the data within tags 'td' if Borough is not 'Not assigned'.\nChange the value of Neighbourhood if its value is 'Not assigned'.\nSave the data to a dataframe.\n</p>", 
            "cell_type": "markdown", 
            "metadata": {}
        }, 
        {
            "execution_count": 6, 
            "cell_type": "code", 
            "metadata": {}, 
            "outputs": [
                {
                    "output_type": "stream", 
                    "name": "stdout", 
                    "text": "(212, 3)\n"
                }
            ], 
            "source": "#Extract table from the page\nhtml = list(soup.children)[2]\nlist(html.children)\nbody = list(html.children)[3]\nbody\ncanada_table = soup.find_all('table')[0]\n\nlist_tr = canada_table.find_all(\"tr\")\n\n#Extract header tags\nheader = []\ntr = list_tr[0]\nfor th in tr:\n    if(th != \"\\n\"):\n        header.append(th.get_text().rstrip())\n\n#Read table contents and change Borough to Postcode if Borough is 'Not assigned'\nrecords = []\nfor tr in list_tr:\n    trs = tr.findAll(\"td\")\n    if trs:\n        record = []\n        record.append(trs[0].text)\n        #Check if Borough is 'Not assigned'\n        if(trs[1].text != \"Not assigned\"):\n            record.append(trs[1].text)\n            #Check if 'Neighbourhood if 'Not assigned'\n            if(trs[2].text.rstrip() == \"Not assigned\"):\n                record.append(trs[1].text)\n            else:\n                record.append(trs[2].text.rstrip())\n            records.append(record)\n    \n#Create dataframe with table contents\ncanada_df = pd.DataFrame(data=records, columns = header)\nprint(canada_df.shape)\n#print(canada_df)\n"
        }, 
        {
            "execution_count": 14, 
            "cell_type": "code", 
            "metadata": {}, 
            "outputs": [
                {
                    "output_type": "stream", 
                    "name": "stdout", 
                    "text": "(103, 3)\n   Postcode       Borough                                      Neighbourhood\n0       M1B   Scarborough                                      Rouge,Malvern\n1       M1C   Scarborough               Highland Creek,Rouge Hill,Port Union\n2       M1E   Scarborough                    Guildwood,Morningside,West Hill\n3       M1G   Scarborough                                             Woburn\n4       M1H   Scarborough                                          Cedarbrae\n5       M1J   Scarborough                                Scarborough Village\n6       M1K   Scarborough          East Birchmount Park,Ionview,Kennedy Park\n7       M1L   Scarborough                      Clairlea,Golden Mile,Oakridge\n8       M1M   Scarborough      Cliffcrest,Cliffside,Scarborough Village West\n9       M1N   Scarborough                         Birch Cliff,Cliffside West\n10      M1P   Scarborough  Dorset Park,Scarborough Town Centre,Wexford He...\n11      M1R   Scarborough                                   Maryvale,Wexford\n12      M1S   Scarborough                                          Agincourt\n13      M1T   Scarborough              Clarks Corners,Sullivan,Tam O'Shanter\n14      M1V   Scarborough  Agincourt North,L'Amoreaux East,Milliken,Steel...\n15      M1W   Scarborough                       L'Amoreaux West,Steeles West\n16      M1X   Scarborough                                        Upper Rouge\n17      M2H    North York                                  Hillcrest Village\n18      M2J    North York                         Fairview,Henry Farm,Oriole\n19      M2K    North York                                    Bayview Village\n20      M2L    North York                            Silver Hills,York Mills\n21      M2M    North York                             Newtonbrook,Willowdale\n22      M2N    North York                                   Willowdale South\n23      M2P    North York                                    York Mills West\n24      M2R    North York                                    Willowdale West\n25      M3A    North York                                          Parkwoods\n26      M3B    North York                                    Don Mills North\n27      M3C    North York                    Flemingdon Park,Don Mills South\n28      M3H    North York      Bathurst Manor,Downsview North,Wilson Heights\n29      M3J    North York                     Northwood Park,York University\n30      M3K    North York                         CFB Toronto,Downsview East\n31      M3L    North York                                     Downsview West\n32      M3M    North York                                  Downsview Central\n33      M3N    North York                                Downsview Northwest\n34      M4A    North York                                   Victoria Village\n35      M4B     East York                     Woodbine Gardens,Parkview Hill\n36      M4C     East York                                   Woodbine Heights\n37      M4E  East Toronto                                        The Beaches\n38      M4G     East York                                            Leaside\n39      M4H     East York                                   Thorncliffe Park\n"
                }
            ], 
            "source": "#Find rows with same Postcode and Borough and concat the Neighbourhood names \n#Create a new dataframe with these changes\nlist_canada = []\nfor (k1, k2), group in canada_df.groupby(['Postcode', 'Borough']):\n    col = group['Neighbourhood']\n    names = pd.Series(group['Neighbourhood'].values)\n    grouped_names = names.str.cat(sep=',')\n    new_row = [k1, k2, grouped_names]\n    list_canada.append(new_row)\n\nnew_canada_df=pd.DataFrame(list_canada,columns=['Postcode','Borough', 'Neighbourhood'])\nprint(new_canada_df.shape)\nprint(new_canada_df.head(40))"
        }, 
        {
            "execution_count": null, 
            "cell_type": "code", 
            "metadata": {}, 
            "outputs": [], 
            "source": ""
        }
    ], 
    "metadata": {
        "kernelspec": {
            "display_name": "Python 3.5", 
            "name": "python3", 
            "language": "python"
        }, 
        "language_info": {
            "mimetype": "text/x-python", 
            "nbconvert_exporter": "python", 
            "version": "3.5.5", 
            "name": "python", 
            "file_extension": ".py", 
            "pygments_lexer": "ipython3", 
            "codemirror_mode": {
                "version": 3, 
                "name": "ipython"
            }
        }
    }, 
    "nbformat": 4
}